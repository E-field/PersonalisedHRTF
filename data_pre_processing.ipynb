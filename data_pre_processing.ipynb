{
 "cells": [
  {
   "cell_type": "markdown",
   "metadata": {},
   "source": [
    "### Methods for Data Augmentation"
   ]
  },
  {
   "cell_type": "code",
   "execution_count": 93,
   "metadata": {},
   "outputs": [],
   "source": [
    "import cv2\n",
    "import numpy as np\n",
    "import random\n",
    "import os\n",
    "# rotation random angel\n",
    "def rotation(image_path,image_number):\n",
    "    img = cv2.imread(image_path)\n",
    "    for i in range(image_number):\n",
    "        image_center = tuple(np.array(img.shape[1::-1]) / 2)\n",
    "        rot_mat = cv2.getRotationMatrix2D(image_center, random.randint(-40, 40), 1.0)\n",
    "        rotated_image = cv2.warpAffine(img, rot_mat, img.shape[1::-1], flags=cv2.INTER_LINEAR)\n",
    "        output_path = f\"{image_path[:-4]}R{i+1}.png\"\n",
    "        cv2.imwrite(output_path, rotated_image)\n",
    "        \n",
    "# add Gaussian noise\n",
    "def add_gaussian_noise(image_path, image_number):\n",
    "    img = cv2.imread(image_path)\n",
    "    for i in range(image_number):\n",
    "        noise = np.random.normal(0, random.randint(1, 5)*5, img.shape).astype(np.int16)\n",
    "        noisy_image = np.clip(np.round(img + noise), 0, 255).astype(np.uint8)\n",
    "        output_path = f\"{image_path[:-4]}G{i+1}.png\"\n",
    "        cv2.imwrite(output_path, noisy_image)\n",
    "# Gaussian blur\n",
    "def gaussian_blur_image(image_path,image_number):\n",
    "    image = cv2.imread(image_path)\n",
    "    for i in range(image_number):\n",
    "        s = (i)\n",
    "        ksize = (2 * s + 1, 2 * s + 1)\n",
    "        blurred_image = cv2.GaussianBlur(image, ksize, sigmaX=5)\n",
    "        output_path = f\"{image_path[:-4]}B{i+1}.png\"\n",
    "        cv2.imwrite(output_path, blurred_image)\n",
    "# brightness\n",
    "def brighten(image_path,image_number):\n",
    "    image = cv2.imread(image_path)\n",
    "    image = image.astype(np.float32)\n",
    "    for i in range(image_number):\n",
    "        g = random.randint(2,3)*0.5\n",
    "        brightened_image = image * g\n",
    "        brightened_image = np.clip(brightened_image, 0, 255)\n",
    "        brightened_image = brightened_image.astype(np.uint8)\n",
    "        output_path = f\"{image_path[:-4]}Bt{i+1}.png\"\n",
    "        cv2.imwrite(output_path, brightened_image)\n",
    "# crop and occlude\n",
    "def crop_and_occlude(image_path,image_number):\n",
    "    image = cv2.imread(image_path)\n",
    "    height, width = image.shape[:2]\n",
    "    for i in range(image_number):\n",
    "        cut_rate = random.randint(10,40)/100\n",
    "        start_x = int(width * cut_rate)\n",
    "        end_x = int(width * 1-cut_rate)\n",
    "        start_y = int(height * cut_rate)\n",
    "        end_y = int(height * 1-cut_rate)\n",
    "        cropped_image = image[start_y:end_y, start_x:end_x]\n",
    "        output_path = f\"{image_path[:-4]}Co{i+1}.png\"\n",
    "        cv2.imwrite(output_path, cropped_image)\n",
    "\n",
    "\n",
    "# rotation(\"dataset\\\\AWEDataset\\\\awe\\\\001\\\\01.png\",5)\n",
    "# add_gaussian_noise(\"dataset\\\\AWEDataset\\\\awe\\\\001\\\\01.png\",5)\n",
    "# gaussian_blur_image(\"dataset\\\\AWEDataset\\\\awe\\\\001\\\\01.png\",5)\n",
    "# brighten(\"dataset\\\\AWEDataset\\\\awe\\\\001\\\\01.png\",5)\n",
    "# crop_and_occlude(\"dataset\\\\AWEDataset\\\\awe\\\\001\\\\01.png\",5)"
   ]
  },
  {
   "cell_type": "markdown",
   "metadata": {},
   "source": [
    "### Scripts of Data Augmentation"
   ]
  },
  {
   "cell_type": "code",
   "execution_count": 96,
   "metadata": {},
   "outputs": [],
   "source": [
    "import glob\n",
    "\n",
    "PATH = \"dataset\\Customized dataset\"\n",
    "dir_list = []\n",
    "for root, dirs, files in os.walk(PATH):\n",
    "    for d in dirs:\n",
    "        dir_list.append(os.path.join(root,d))\n",
    "\n",
    "\n",
    "for i in range(len(dir_list)):\n",
    "    folder_path = dir_list[i]\n",
    "    file_list=[]\n",
    "    for root, dirs, files in os.walk(folder_path):\n",
    "        for file in files:\n",
    "            file_list.append(os.path.join(root,file))\n",
    "    for i in range(len(file_list)-1):\n",
    "        add_gaussian_noise(file_list[i],6)\n",
    "        rotation(file_list[i],6)      \n",
    "        gaussian_blur_image(file_list[i],6)\n",
    "        brighten(file_list[i],6)\n",
    "        crop_and_occlude(file_list[i],6)\n"
   ]
  },
  {
   "cell_type": "markdown",
   "metadata": {},
   "source": [
    "### Mthods and Scripts for Edge Detection(not used)"
   ]
  },
  {
   "cell_type": "code",
   "execution_count": 17,
   "metadata": {},
   "outputs": [],
   "source": [
    "def edge_detection(image_path):\n",
    "    # load image\n",
    "    img = cv2.imread(image_path, cv2.IMREAD_COLOR)\n",
    "\n",
    "    # convert to grayscale\n",
    "    gray = cv2.cvtColor(img, cv2.COLOR_BGR2GRAY)\n",
    "\n",
    "    height, width = gray.shape[:2]\n",
    "    left = int(width / 10)\n",
    "    top = int(height / 10)\n",
    "    right = width - int(width / 10)\n",
    "    bottom = height - int(height / 10)\n",
    "    cropped_image = gray[top:bottom, left:right]\n",
    "    cropped_image = cv2.resize(cropped_image, (64, 64))\n",
    "    # edges = cv2.Canny(cropped_image, 50, 150)\n",
    "    cv2.imwrite(image_path, cropped_image)\n",
    "\n",
    "for i in range(len(PATH)):\n",
    "    folder_path = PATH[i]\n",
    "    file_pattern = os.path.join(folder_path, '*.png')\n",
    "    for file_path in glob.glob(file_pattern):\n",
    "        edge_detection(file_path)"
   ]
  },
  {
   "cell_type": "markdown",
   "metadata": {},
   "source": [
    "### Separate images that do not contain rotations(not used)"
   ]
  },
  {
   "cell_type": "code",
   "execution_count": null,
   "metadata": {
    "collapsed": false
   },
   "outputs": [],
   "source": [
    "import os\n",
    "PATH = 'dataset/Customized dataset/validate'\n",
    "def delete_files_with_r(directory):\n",
    "    for root, dirs, files in os.walk(directory):\n",
    "        for file in files:\n",
    "            if 'R' in file or 'r' in file:\n",
    "                file_path = os.path.join(root, file)\n",
    "                if os.path.isfile(file_path):\n",
    "                    os.remove(file_path)\n",
    "                    print(f'已删除: {file_path}')\n",
    "delete_files_with_r(PATH)\n"
   ]
  },
  {
   "cell_type": "code",
   "execution_count": null,
   "metadata": {
    "collapsed": false
   },
   "outputs": [],
   "source": [
    "from ear_CNN import EarCNN\n",
    "from utils import read_split_data\n",
    "import torch\n",
    "import torch.nn as nn\n",
    "import torch.utils.data\n",
    "import torch.optim as optim\n",
    "from torchvision import transforms\n",
    "from my_dataset import MyDataSet\n",
    "import numpy as np\n",
    "import matplotlib.pyplot as plt\n",
    "from PIL import Image\n",
    "\n",
    "\n",
    "def main():\n",
    "    model = EarCNN()\n",
    "    m_state_dict = torch.load('EAR_CNN.pth')\n",
    "    model.load_state_dict(m_state_dict)\n",
    "    model.eval()\n",
    "    data_transforms = transforms.Compose([\n",
    "        transforms.Lambda(lambda image: image.convert('RGB')),\n",
    "        transforms.Resize(64),\n",
    "        transforms.CenterCrop(64),\n",
    "        transforms.ToTensor(),\n",
    "        transforms.Normalize(mean=[0.5], std=[0.5]),\n",
    "    ])\n",
    "    img1 = Image.open('ear_image.png')\n",
    "    img1 = data_transforms(img1)\n",
    "    img1 = img1.unsqueeze(0)\n",
    "    img2 = Image.open('dataset\\\\Customized dataset\\\\train\\\\001\\\\01B3.png')\n",
    "    img2 = data_transforms(img2)\n",
    "    img2 = img2.unsqueeze(0)\n",
    "    \n",
    "    with torch.no_grad():\n",
    "        output1 = model(img1)\n",
    "        output2 = model(img2)\n",
    "    print(output1)\n",
    "    print(output2)\n",
    "\n",
    "\n",
    "if __name__ == \"__main__\":\n",
    "    main()\n",
    "\n"
   ]
  },
  {
   "cell_type": "markdown",
   "metadata": {},
   "source": [
    "### Save HRIR data to .json"
   ]
  },
  {
   "cell_type": "code",
   "execution_count": null,
   "metadata": {},
   "outputs": [],
   "source": [
    "\n",
    "from pysofaconventions import SOFAFile\n",
    "import os\n",
    "import json\n",
    "\n",
    "\n",
    "def list_files_in_folder(folder_path):\n",
    "    file_paths = []\n",
    "    for root, dirs, files in os.walk(folder_path):\n",
    "        for file in files:\n",
    "            file_path = os.path.join(root, file)\n",
    "            file_path = file_path.replace('\\\\', '/')\n",
    "            file_paths.append(file_path)\n",
    "    return file_paths\n",
    "\n",
    "\n",
    "folder_path = 'dataset/cipic-hrtf-database-master/cipic-hrtf-database-master/sofa_files'\n",
    "file_paths_list = list_files_in_folder(folder_path)\n",
    "\n",
    "\n",
    "def get_HRIR(path):\n",
    "    sofa = SOFAFile(path, 'r')\n",
    "    hrir = sofa.getDataIR()\n",
    "    return hrir\n",
    "\n",
    "hrir_dict = {}\n",
    "for file_path in file_paths_list:\n",
    "    file_name = os.path.basename(file_path)\n",
    "    hrir_data = get_HRIR(file_path)\n",
    "    hrir_dict[file_name] = hrir_data.data.tolist()\n",
    "\n",
    "# save\n",
    "output_file = 'hrir_data.json'\n",
    "with open(output_file, 'w') as json_file:\n",
    "    json.dump(hrir_dict, json_file)\n",
    "\n",
    "print(f\"HRIR saved to .JSON: {output_file}\")\n"
   ]
  }
 ],
 "metadata": {
  "kernelspec": {
   "display_name": "base",
   "language": "python",
   "name": "python3"
  },
  "language_info": {
   "codemirror_mode": {
    "name": "ipython",
    "version": 3
   },
   "file_extension": ".py",
   "mimetype": "text/x-python",
   "name": "python",
   "nbconvert_exporter": "python",
   "pygments_lexer": "ipython3",
   "version": "3.8.17"
  },
  "orig_nbformat": 4
 },
 "nbformat": 4,
 "nbformat_minor": 2
}
